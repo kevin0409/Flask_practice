{
 "cells": [
  {
   "cell_type": "code",
   "execution_count": 3,
   "metadata": {},
   "outputs": [],
   "source": [
    "def outer_func():\n",
    "    print(\"Outer function called\")\n",
    "\n",
    "    def inner_func():\n",
    "        return 'Inner function called'\n",
    "\n",
    "    print(inner_func())"
   ]
  },
  {
   "cell_type": "code",
   "execution_count": 4,
   "metadata": {},
   "outputs": [
    {
     "name": "stdout",
     "output_type": "stream",
     "text": [
      "Outer function called\n",
      "Inner function called\n"
     ]
    }
   ],
   "source": [
    "outer_func()"
   ]
  },
  {
   "cell_type": "code",
   "execution_count": 1,
   "metadata": {},
   "outputs": [
    {
     "name": "stdout",
     "output_type": "stream",
     "text": [
      "10\n",
      "complex\n"
     ]
    }
   ],
   "source": [
    "def outer_func(num):\n",
    "    def inner_func():\n",
    "        print(num)\n",
    "        return 'complex'\n",
    "    return inner_func\n",
    "\n",
    "fn = outer_func(10) # first-class function\n",
    "print(fn()) # closure"
   ]
  },
  {
   "cell_type": "code",
   "execution_count": 4,
   "metadata": {},
   "outputs": [
    {
     "name": "stdout",
     "output_type": "stream",
     "text": [
      "<function calc_square at 0x7f9af07180d0>\n"
     ]
    },
    {
     "data": {
      "text/plain": [
       "4"
      ]
     },
     "execution_count": 4,
     "metadata": {},
     "output_type": "execute_result"
    }
   ],
   "source": [
    "def calc_square(digit):\n",
    "    return digit * digit\n",
    "\n",
    "calc_square(2)\n",
    "\n",
    "func1 = calc_square\n",
    "\n",
    "print(func1)\n",
    "func1(2)"
   ]
  },
  {
   "cell_type": "code",
   "execution_count": 5,
   "metadata": {},
   "outputs": [
    {
     "data": {
      "text/plain": [
       "[1, 16, 81, 256, 625]"
      ]
     },
     "execution_count": 5,
     "metadata": {},
     "output_type": "execute_result"
    }
   ],
   "source": [
    "def calc_square(digit):\n",
    "    return digit * digit\n",
    "def calc_plus(digit):\n",
    "    return digit + digit\n",
    "def calc_quad(digit):\n",
    "    return digit * digit * digit * digit\n",
    "def list_square(function, digit_list):\n",
    "    result = list()\n",
    "    for digit in digit_list:\n",
    "        result.append(function(digit))\n",
    "    return result\n",
    "\n",
    "num_list = [1, 2, 3, 4, 5]\n",
    "\n",
    "list_square(calc_square, num_list)\n",
    "list_square(calc_plus, num_list)\n",
    "list_square(calc_quad, num_list)"
   ]
  },
  {
   "cell_type": "code",
   "execution_count": 6,
   "metadata": {},
   "outputs": [
    {
     "name": "stdout",
     "output_type": "stream",
     "text": [
      "<function logger.<locals>.msg_creator at 0x7f9af0718820>\n",
      "Log:  asd\n"
     ]
    }
   ],
   "source": [
    "def logger(msg):\n",
    "    message = msg\n",
    "    def msg_creator():\n",
    "        print('Log: ', message)\n",
    "    return msg_creator\n",
    "\n",
    "log1 = logger('asd')\n",
    "\n",
    "print(log1)\n",
    "\n",
    "log1()"
   ]
  },
  {
   "cell_type": "code",
   "execution_count": 7,
   "metadata": {},
   "outputs": [
    {
     "name": "stdout",
     "output_type": "stream",
     "text": [
      "<function html_creator.<locals>.text_wrapper at 0x7f9af0718940>\n",
      "<h1>h1 태그는 타이틀을 표시하는 태그입니다.</h1>\n",
      "<p>p 태그는 문단을 표시하는 태그입니다.</p>\n"
     ]
    }
   ],
   "source": [
    "def html_creator(tag):\n",
    "    def text_wrapper(msg):\n",
    "        print('<{0}>{1}</{0}>'.format(tag, msg))\n",
    "    return text_wrapper\n",
    "\n",
    "h1_html_creator = html_creator('h1')\n",
    "print(h1_html_creator)\n",
    "h1_html_creator('h1 태그는 타이틀을 표시하는 태그입니다.')\n",
    "\n",
    "p_html_creator = html_creator('p')\n",
    "p_html_creator('p 태그는 문단을 표시하는 태그입니다.')"
   ]
  },
  {
   "cell_type": "code",
   "execution_count": 9,
   "metadata": {},
   "outputs": [
    {
     "name": "stdout",
     "output_type": "stream",
     "text": [
      "- hello\n"
     ]
    }
   ],
   "source": [
    "def index_creator(tag):\n",
    "    def text_wrapper(msg):\n",
    "        print('{0} {1}'.format(tag, msg))\n",
    "    return text_wrapper\n",
    "\n",
    "func1 = index_creator('-')\n",
    "func1('hello')"
   ]
  },
  {
   "cell_type": "code",
   "execution_count": 12,
   "metadata": {},
   "outputs": [
    {
     "name": "stdout",
     "output_type": "stream",
     "text": [
      "2\n",
      "4\n",
      "8\n",
      "16\n",
      "32\n"
     ]
    }
   ],
   "source": [
    "def calc_power(n):\n",
    "    def power(base):\n",
    "        return base ** n\n",
    "    return power\n",
    "\n",
    "list_data = list()\n",
    "for i in range(1, 6):\n",
    "    list_data.append(calc_power(i))\n",
    "\n",
    "for func in list_data:\n",
    "    print(func(2))\n"
   ]
  },
  {
   "cell_type": "code",
   "execution_count": 15,
   "metadata": {},
   "outputs": [
    {
     "name": "stdout",
     "output_type": "stream",
     "text": [
      "로그인 되었습니다.\n"
     ]
    }
   ],
   "source": [
    "def logger_login():\n",
    "    print('로그인 되었습니다.')\n",
    "\n",
    "logger_login()"
   ]
  },
  {
   "cell_type": "code",
   "execution_count": 20,
   "metadata": {},
   "outputs": [],
   "source": [
    "import datetime\n",
    "def datetime_decorator(func):\n",
    "    def wrapper():\n",
    "        print('time: ', str(datetime.datetime.now()))\n",
    "        func()\n",
    "        print(datetime.datetime.now())\n",
    "    return wrapper"
   ]
  },
  {
   "cell_type": "code",
   "execution_count": 21,
   "metadata": {},
   "outputs": [
    {
     "name": "stdout",
     "output_type": "stream",
     "text": [
      "time:  2023-10-30 20:10:06.141419\n",
      "asd\n",
      "2023-10-30 20:10:06.141519\n"
     ]
    }
   ],
   "source": [
    "@datetime_decorator\n",
    "def logger_login_asd():\n",
    "    print('asd')\n",
    "\n",
    "logger_login_asd()"
   ]
  },
  {
   "cell_type": "code",
   "execution_count": 27,
   "metadata": {},
   "outputs": [
    {
     "name": "stdout",
     "output_type": "stream",
     "text": [
      "5.0\n"
     ]
    }
   ],
   "source": [
    "def outer_function(function):\n",
    "    def inner_func(digit, digit2):\n",
    "        if digit2 == 0:\n",
    "            print('cannot divide as 0')\n",
    "            return\n",
    "        function(digit, digit2)\n",
    "    return inner_func\n",
    "\n",
    "def divide(digit, digit2):\n",
    "    return digit / digit2\n",
    "\n",
    "@outer_function\n",
    "def divide(digit, digit2):\n",
    "    print(digit / digit2)\n",
    "\n",
    "divide(10, 2)"
   ]
  },
  {
   "cell_type": "code",
   "execution_count": 29,
   "metadata": {},
   "outputs": [
    {
     "name": "stdout",
     "output_type": "stream",
     "text": [
      "decorator1\n",
      "decorator2\n",
      "hello\n"
     ]
    }
   ],
   "source": [
    "def decorator1(func):\n",
    "    def wrapper():\n",
    "        print('decorator1')\n",
    "        func()\n",
    "    return wrapper\n",
    "def decorator2(func):\n",
    "    def wrapper():\n",
    "        print('decorator2')\n",
    "        func()\n",
    "    return wrapper\n",
    "\n",
    "@decorator1\n",
    "@decorator2\n",
    "def hello():\n",
    "    print('hello')\n",
    "\n",
    "hello()"
   ]
  },
  {
   "cell_type": "code",
   "execution_count": 30,
   "metadata": {},
   "outputs": [
    {
     "name": "stdout",
     "output_type": "stream",
     "text": [
      "<h1>a sd</h1>\n"
     ]
    }
   ],
   "source": [
    "def h1_tag(function):\n",
    "    def func_wrapper(name):\n",
    "        return '<h1>{0}</h1>'.format(function(name))\n",
    "    return func_wrapper\n",
    "\n",
    "class Person:\n",
    "    def __init__(self, first_name, last_name):\n",
    "        self.first_name = first_name\n",
    "        self.last_name = last_name\n",
    "\n",
    "    @h1_tag\n",
    "    def get_name(self):\n",
    "        return self.first_name + ' ' + self.last_name\n",
    "    \n",
    "asd = Person('a', 'sd')\n",
    "print(asd.get_name())"
   ]
  },
  {
   "cell_type": "code",
   "execution_count": 33,
   "metadata": {},
   "outputs": [
    {
     "name": "stdout",
     "output_type": "stream",
     "text": [
      "asd asd\n",
      "asd zxc\n",
      "zxc asd\n",
      "zxc asd zxc\n"
     ]
    }
   ],
   "source": [
    "print('{} {}'.format('asd', 'asd'))\n",
    "print('{0} {1}'.format('asd', 'zxc'))\n",
    "print('{1} {0}'.format('asd', 'zxc'))\n",
    "print('{1} {0} {1}'.format('asd', 'zxc'))"
   ]
  },
  {
   "cell_type": "code",
   "execution_count": 36,
   "metadata": {},
   "outputs": [
    {
     "name": "stdout",
     "output_type": "stream",
     "text": [
      "decorator 1\n",
      "hello\n"
     ]
    }
   ],
   "source": [
    "def decorator(num):\n",
    "    def outer_wrapper(func):\n",
    "        def inner_wrapper(*args, **kwargs):\n",
    "            print('decorator {}'.format(num))\n",
    "            return func(*args, **kwargs)\n",
    "        return inner_wrapper\n",
    "    return outer_wrapper\n",
    "\n",
    "@decorator(1)\n",
    "def print_hello():\n",
    "    print('hello')\n",
    "\n",
    "print_hello()"
   ]
  },
  {
   "cell_type": "code",
   "execution_count": null,
   "metadata": {},
   "outputs": [],
   "source": []
  }
 ],
 "metadata": {
  "kernelspec": {
   "display_name": "digital",
   "language": "python",
   "name": "python3"
  },
  "language_info": {
   "codemirror_mode": {
    "name": "ipython",
    "version": 3
   },
   "file_extension": ".py",
   "mimetype": "text/x-python",
   "name": "python",
   "nbconvert_exporter": "python",
   "pygments_lexer": "ipython3",
   "version": "3.9.18"
  }
 },
 "nbformat": 4,
 "nbformat_minor": 2
}
