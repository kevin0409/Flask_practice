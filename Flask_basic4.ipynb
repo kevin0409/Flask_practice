{
 "cells": [
  {
   "cell_type": "code",
   "execution_count": 2,
   "metadata": {},
   "outputs": [
    {
     "name": "stdout",
     "output_type": "stream",
     "text": [
      " * Serving Flask app '__main__'\n",
      " * Debug mode: off\n"
     ]
    },
    {
     "name": "stderr",
     "output_type": "stream",
     "text": [
      "\u001b[31m\u001b[1mWARNING: This is a development server. Do not use it in a production deployment. Use a production WSGI server instead.\u001b[0m\n",
      " * Running on all addresses (0.0.0.0)\n",
      " * Running on http://127.0.0.1:8080\n",
      " * Running on http://192.168.35.247:8080\n",
      "\u001b[33mPress CTRL+C to quit\u001b[0m\n",
      "127.0.0.1 - - [31/Oct/2023 20:21:54] \"GET / HTTP/1.1\" 200 -\n",
      "127.0.0.1 - - [31/Oct/2023 20:21:58] \"GET / HTTP/1.1\" 200 -\n",
      "127.0.0.1 - - [31/Oct/2023 20:21:59] \"GET /first HTTP/1.1\" 200 -\n",
      "127.0.0.1 - - [31/Oct/2023 20:22:04] \"GET /first HTTP/1.1\" 200 -\n",
      "127.0.0.1 - - [31/Oct/2023 20:22:04] \"GET / HTTP/1.1\" 200 -\n",
      "127.0.0.1 - - [31/Oct/2023 20:22:05] \"GET /hello HTTP/1.1\" 200 -\n"
     ]
    }
   ],
   "source": [
    "from flask import Flask\n",
    "\n",
    "app = Flask(__name__)\n",
    "@app.route(\"/\")\n",
    "def hello():\n",
    "    return \"<h1>Hello World!</h1>\"\n",
    "\n",
    "@app.route(\"/hello\")\n",
    "def hello_flask():\n",
    "    return \"<h1>Hello Flask!</h1>\"\n",
    "\n",
    "@app.route(\"/first\")\n",
    "def hello_first():\n",
    "    return \"<h3>Hello First!</h3>\"\n",
    "\n",
    "if __name__ == \"__main__\":\n",
    "    app.run(host=\"0.0.0.0\", port=\"8080\")"
   ]
  },
  {
   "cell_type": "code",
   "execution_count": 3,
   "metadata": {},
   "outputs": [
    {
     "name": "stdout",
     "output_type": "stream",
     "text": [
      " * Serving Flask app '__main__'\n",
      " * Debug mode: off\n"
     ]
    },
    {
     "name": "stderr",
     "output_type": "stream",
     "text": [
      "\u001b[31m\u001b[1mWARNING: This is a development server. Do not use it in a production deployment. Use a production WSGI server instead.\u001b[0m\n",
      " * Running on all addresses (0.0.0.0)\n",
      " * Running on http://127.0.0.1:8080\n",
      " * Running on http://192.168.35.247:8080\n",
      "\u001b[33mPress CTRL+C to quit\u001b[0m\n",
      "127.0.0.1 - - [31/Oct/2023 20:27:41] \"GET / HTTP/1.1\" 200 -\n",
      "127.0.0.1 - - [31/Oct/2023 20:27:44] \"GET / HTTP/1.1\" 200 -\n",
      "127.0.0.1 - - [31/Oct/2023 20:27:46] \"\u001b[33mGET /first HTTP/1.1\u001b[0m\" 404 -\n",
      "127.0.0.1 - - [31/Oct/2023 20:27:49] \"\u001b[33mGET /first HTTP/1.1\u001b[0m\" 404 -\n",
      "127.0.0.1 - - [31/Oct/2023 20:27:54] \"GET / HTTP/1.1\" 200 -\n",
      "127.0.0.1 - - [31/Oct/2023 20:28:09] \"GET /profile/박승호 HTTP/1.1\" 200 -\n",
      "127.0.0.1 - - [31/Oct/2023 20:28:47] \"GET /first/박승호 HTTP/1.1\" 200 -\n"
     ]
    }
   ],
   "source": [
    "from flask import Flask\n",
    "\n",
    "app = Flask(__name__)\n",
    "@app.route(\"/\")\n",
    "def hello():\n",
    "    return \"<h1>Hello World!</h1>\"\n",
    "\n",
    "@app.route(\"/profile/<username>\")\n",
    "def get_profile(username):\n",
    "    return \"profile: \" + username\n",
    "\n",
    "@app.route(\"/first/<username>\")\n",
    "def hello_first(username):\n",
    "    return \"<h3>Hello\" + username + \"!</h3>\"\n",
    "\n",
    "if __name__ == \"__main__\":\n",
    "    app.run(host=\"0.0.0.0\", port=\"8080\")"
   ]
  },
  {
   "cell_type": "code",
   "execution_count": 5,
   "metadata": {},
   "outputs": [
    {
     "name": "stdout",
     "output_type": "stream",
     "text": [
      " * Serving Flask app '__main__'\n",
      " * Debug mode: off\n"
     ]
    },
    {
     "name": "stderr",
     "output_type": "stream",
     "text": [
      "\u001b[31m\u001b[1mWARNING: This is a development server. Do not use it in a production deployment. Use a production WSGI server instead.\u001b[0m\n",
      " * Running on all addresses (0.0.0.0)\n",
      " * Running on http://127.0.0.1:8080\n",
      " * Running on http://192.168.35.247:8080\n",
      "\u001b[33mPress CTRL+C to quit\u001b[0m\n",
      "127.0.0.1 - - [31/Oct/2023 20:33:39] \"GET / HTTP/1.1\" 200 -\n",
      "127.0.0.1 - - [31/Oct/2023 20:33:41] \"GET / HTTP/1.1\" 200 -\n",
      "127.0.0.1 - - [31/Oct/2023 20:33:42] \"GET /first/123 HTTP/1.1\" 200 -\n",
      "127.0.0.1 - - [31/Oct/2023 20:33:43] \"\u001b[33mGET /first HTTP/1.1\u001b[0m\" 404 -\n",
      "127.0.0.1 - - [31/Oct/2023 20:33:44] \"GET /first/123 HTTP/1.1\" 200 -\n"
     ]
    }
   ],
   "source": [
    "from flask import Flask\n",
    "\n",
    "app = Flask(__name__)\n",
    "\n",
    "def add_file(data):\n",
    "    return data + 5\n",
    "@app.route(\"/\")\n",
    "def hello():\n",
    "    return \"<h1>Hello World!</h1>\"\n",
    "\n",
    "@app.route(\"/profile/<username>\")\n",
    "def get_profile(username):\n",
    "    return \"profile: \" + username\n",
    "\n",
    "\n",
    "@app.route(\"/first/<int:message_id>\")\n",
    "def get_first(message_id):\n",
    "    data = add_file(message_id)\n",
    "    return \"message id: %d\" % data\n",
    "\n",
    "@app.route(\"/message/<int:message_id>\")\n",
    "def get_message(message_id):\n",
    "    return \"message id: %d\" % message_id\n",
    "\n",
    "if __name__ == \"__main__\":\n",
    "    app.run(host=\"0.0.0.0\", port=\"8080\")"
   ]
  },
  {
   "cell_type": "code",
   "execution_count": 8,
   "metadata": {},
   "outputs": [
    {
     "name": "stdout",
     "output_type": "stream",
     "text": [
      " * Serving Flask app '__main__'\n",
      " * Debug mode: off\n"
     ]
    },
    {
     "name": "stderr",
     "output_type": "stream",
     "text": [
      "\u001b[31m\u001b[1mWARNING: This is a development server. Do not use it in a production deployment. Use a production WSGI server instead.\u001b[0m\n",
      " * Running on all addresses (0.0.0.0)\n",
      " * Running on http://127.0.0.1:8080\n",
      " * Running on http://192.168.35.247:8080\n",
      "\u001b[33mPress CTRL+C to quit\u001b[0m\n",
      "127.0.0.1 - - [31/Oct/2023 21:00:00] \"GET /json_test HTTP/1.1\" 200 -\n",
      "127.0.0.1 - - [31/Oct/2023 21:00:02] \"GET /json_test HTTP/1.1\" 200 -\n",
      "127.0.0.1 - - [31/Oct/2023 21:00:36] \"\u001b[33mGET / HTTP/1.1\u001b[0m\" 404 -\n",
      "127.0.0.1 - - [31/Oct/2023 21:00:41] \"\u001b[33mGET / HTTP/1.1\u001b[0m\" 404 -\n",
      "127.0.0.1 - - [31/Oct/2023 21:00:43] \"GET /json_test HTTP/1.1\" 200 -\n",
      "127.0.0.1 - - [31/Oct/2023 21:00:45] \"GET /json_test HTTP/1.1\" 200 -\n",
      "127.0.0.1 - - [31/Oct/2023 21:00:47] \"GET /json_test HTTP/1.1\" 200 -\n",
      "127.0.0.1 - - [31/Oct/2023 21:01:43] \"GET /json_test HTTP/1.1\" 200 -\n"
     ]
    }
   ],
   "source": [
    "from flask import Flask, jsonify\n",
    "\n",
    "app = Flask(__name__)\n",
    "\n",
    "@app.route(\"/json_test\")\n",
    "def hello_json():\n",
    "    data = {'name':'응', 'family':'아니야'}\n",
    "    return jsonify(data)\n",
    "\n",
    "@app.route(\"/server_info\")\n",
    "def server_json():\n",
    "    data = {'server_name':'0.0.0.0', 'server_port':'8080'}\n",
    "    return jsonify(data)\n",
    "\n",
    "if __name__ == \"__main__\":\n",
    "    app.run(host=\"0.0.0.0\", port=\"8080\")"
   ]
  },
  {
   "cell_type": "code",
   "execution_count": null,
   "metadata": {},
   "outputs": [],
   "source": []
  }
 ],
 "metadata": {
  "kernelspec": {
   "display_name": "digital",
   "language": "python",
   "name": "python3"
  },
  "language_info": {
   "codemirror_mode": {
    "name": "ipython",
    "version": 3
   },
   "file_extension": ".py",
   "mimetype": "text/x-python",
   "name": "python",
   "nbconvert_exporter": "python",
   "pygments_lexer": "ipython3",
   "version": "3.9.18"
  }
 },
 "nbformat": 4,
 "nbformat_minor": 2
}
